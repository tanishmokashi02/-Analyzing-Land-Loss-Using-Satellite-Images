{
 "cells": [
  {
   "cell_type": "code",
   "execution_count": null,
   "id": "8eee28f4",
   "metadata": {},
   "outputs": [],
   "source": [
    "import numpy as np\n",
    "from skimage import io\n",
    "import matplotlib\n",
    "import matplotlib.pyplot as plt\n",
    "import os\n",
    "from glob import glob\n",
    "import torch\n",
    "import torch.nn as nn\n",
    "from tqdm import tqdm\n",
    "from PIL import Image\n",
    "from network import Net\n",
    "from torch.utils.data import DataLoader, Dataset\n",
    "from torch.autograd import Variable\n",
    "if not os.path.exists('./outputs'):\n",
    "    os.mkdir('./outputs')"
   ]
  },
  {
   "cell_type": "code",
   "execution_count": 2,
   "id": "745dbbdf",
   "metadata": {},
   "outputs": [],
   "source": [
    "# Global parameters\n",
    "\n",
    "# If USE_CUDA is True, computations will be done using the GPU (may not work in all systems)\n",
    "# This will make the calculations happen faster\n",
    "USE_CUDA = torch.cuda.is_available()\n",
    "\n",
    "DATASET_PATH = './EuroSAT_data'\n",
    "\n",
    "BATCH_SIZE = 64 # Number of images that are used for calculating gradients at each step\n",
    "\n",
    "NUM_EPOCHS = 25 # Number of times we will go through all the training images. Do not go over 25\n",
    "\n",
    "LEARNING_RATE = 0.001 # Controls the step size\n",
    "MOMENTUM = 0.9 # Momentum for the gradient descent\n",
    "WEIGHT_DECAY = 0.0005"
   ]
  },
  {
   "cell_type": "code",
   "execution_count": 9,
   "id": "cc65618c",
   "metadata": {},
   "outputs": [
    {
     "name": "stdout",
     "output_type": "stream",
     "text": [
      "Dataloaders OK\n"
     ]
    },
    {
     "data": {
      "text/plain": [
       "<torch.utils.data.dataloader.DataLoader at 0x154a4020f40>"
      ]
     },
     "execution_count": 9,
     "metadata": {},
     "output_type": "execute_result"
    }
   ],
   "source": [
    "# Create datasets and data loaders\n",
    "# Transformations\n",
    "\n",
    "from torchvision import datasets, models, transforms\n",
    "data_transforms = transforms.Compose([\n",
    "        transforms.Resize(64),\n",
    "        transforms.ToTensor(),\n",
    "        transforms.Normalize([0.485, 0.456, 0.406], [0.229, 0.224, 0.225])\n",
    "    ])\n",
    "\n",
    "train_dataset = datasets.ImageFolder(os.path.join(DATASET_PATH, 'train'), data_transforms)\n",
    "train_loader = DataLoader(train_dataset, BATCH_SIZE, shuffle=True, num_workers=2, pin_memory=True)\n",
    "\n",
    "\n",
    "test_dataset = datasets.ImageFolder(os.path.join(DATASET_PATH, 'test'), data_transforms)\n",
    "test_loader = DataLoader(test_dataset, BATCH_SIZE, shuffle=False, num_workers=2, pin_memory=True)\n",
    "\n",
    "class_names = train_dataset.classes\n",
    "\n",
    "print('Dataloaders OK')\n",
    "test_loader"
   ]
  },
  {
   "cell_type": "code",
   "execution_count": 4,
   "id": "1b611aaf",
   "metadata": {},
   "outputs": [
    {
     "name": "stdout",
     "output_type": "stream",
     "text": [
      "Image label: 6\n"
     ]
    },
    {
     "data": {
      "text/plain": [
       "<matplotlib.image.AxesImage at 0x154a3f92520>"
      ]
     },
     "execution_count": 4,
     "metadata": {},
     "output_type": "execute_result"
    },
    {
     "data": {
      "image/png": "[encoded data removed]",
      "text/plain": [
       "<Figure size 432x288 with 1 Axes>"
      ]
     },
     "metadata": {
      "needs_background": "light"
     },
     "output_type": "display_data"
    }
   ],
   "source": [
    "#Print the corresponding label for the image\n",
    "\n",
    "random_image = train_dataset[13421][0].numpy().transpose((1, 2, 0))   \n",
    "mean = np.array([0.485, 0.456, 0.406])\n",
    "std = np.array([0.229, 0.224, 0.225])\n",
    "random_image = std * random_image + mean\n",
    "random_image = np.clip(random_image, 0, 1)\n",
    "print(\"Image label:\", train_dataset[13421][1])\n",
    "plt.imshow(random_image)"
   ]
  },
  {
   "cell_type": "markdown",
   "id": "6a6d205c",
   "metadata": {},
   "source": [
    "# Convolutional Neural Network Architecture "
   ]
  },
  {
   "cell_type": "code",
   "execution_count": 5,
   "id": "f167ce4d",
   "metadata": {},
   "outputs": [],
   "source": [
    "#Create the model class\n",
    "class CNN(nn.Module):\n",
    "    def __init__(self):\n",
    "        super(CNN,self).__init__()\n",
    "        #Same Padding = [(filter size - 1) / 2] (Same Padding--> input size = output size)\n",
    "        self.cnn1 = nn.Conv2d(in_channels=3, out_channels=4, kernel_size=3,stride=1, padding=1)\n",
    "        #The output size of each of the 4 feature maps is \n",
    "        #[(input_size - filter_size + 2(padding) / stride) +1] --> [(64-3+2(1)/1)+1] = 64 (padding type is same)\n",
    "        self.batchnorm1 = nn.BatchNorm2d(4)\n",
    "        self.relu = nn.ReLU(inplace=True)\n",
    "        self.maxpool1 = nn.MaxPool2d(kernel_size=2)\n",
    "  \n",
    "        #After max pooling, the output of each feature map is now 64/2 =32\n",
    "        self.cnn2 = nn.Conv2d(in_channels=4, out_channels=8, kernel_size=3, stride=1, padding=1)\n",
    "        #Output size of each of the 32 feature maps\n",
    "        self.batchnorm2 = nn.BatchNorm2d(8)\n",
    "        self.maxpool2 = nn.MaxPool2d(kernel_size=2)\n",
    "        \n",
    "        #After max pooling, the output of each feature map is 32/2 = 16\n",
    "        #Flatten the feature maps. You have 8 feature maps, each of them is of size 16x16 --> 8*16*16 = 2048\n",
    "        self.fc1 = nn.Linear(in_features=8*16*16, out_features=32)\n",
    "        self.droput = nn.Dropout(p=0.5)\n",
    "        self.fc2 = nn.Linear(in_features=32, out_features=10)\n",
    "        \n",
    "    def forward(self,x):\n",
    "        out = self.cnn1(x)\n",
    "        out = self.batchnorm1(out)\n",
    "        out = self.relu(out)\n",
    "        out = self.maxpool1(out)\n",
    "        out = self.cnn2(out)\n",
    "        out = self.batchnorm2(out)\n",
    "        out = self.relu(out)\n",
    "        out = self.maxpool2(out)\n",
    "        \n",
    "        #Now we have to flatten the output. This is where we apply the feed forward neural network as learned before! \n",
    "        #It will take the shape (batch_size, 2048)\n",
    "        out = out.view(x.size(0), -1)\n",
    "        \n",
    "        #Then we forward through our fully connected layer \n",
    "        out = self.fc1(out)\n",
    "        out = self.relu(out)\n",
    "        #out = self.droput(out)\n",
    "        out = self.fc2(out)\n",
    "        return out"
   ]
  },
  {
   "cell_type": "markdown",
   "id": "dd9e37ce",
   "metadata": {},
   "source": [
    "# Create models"
   ]
  },
  {
   "cell_type": "code",
   "execution_count": 9,
   "id": "25429dcc",
   "metadata": {},
   "outputs": [
    {
     "name": "stdout",
     "output_type": "stream",
     "text": [
      "CNN\n",
      "Network OK\n"
     ]
    }
   ],
   "source": [
    "# Create network\n",
    "model = CNN()\n",
    "if USE_CUDA:\n",
    "    model = model.cuda()  \n",
    "    \n",
    "print('Network OK')"
   ]
  },
  {
   "cell_type": "code",
   "execution_count": 10,
   "id": "711b61a5",
   "metadata": {},
   "outputs": [],
   "source": [
    "# Define criterion, optimizer, and scheduler\n",
    "\n",
    "criterion = nn.CrossEntropyLoss()  \n",
    "optimizer = torch.optim.SGD(model.parameters(), lr=LEARNING_RATE, momentum=MOMENTUM, weight_decay=WEIGHT_DECAY)\n",
    "scheduler = torch.optim.lr_scheduler.StepLR(optimizer, step_size=7, gamma=0.1)"
   ]
  },
  {
   "cell_type": "markdown",
   "id": "c0ca5c04",
   "metadata": {},
   "source": [
    "# Training with CNN"
   ]
  },
  {
   "cell_type": "code",
   "execution_count": null,
   "id": "b3299f44",
   "metadata": {},
   "outputs": [],
   "source": [
    "# Main loop\n",
    "train_loss = []\n",
    "train_accuracy = []\n",
    "test_loss = []\n",
    "test_accuracy = []\n",
    "epochs = []\n",
    "\n",
    "for epoch in range(1, NUM_EPOCHS+1):\n",
    "    print(f'\\n\\nRunning epoch {epoch} of {NUM_EPOCHS}...\\n')\n",
    "    epochs.append(epoch)\n",
    "\n",
    "    #-------------------------Train-------------------------\n",
    "    \n",
    "    #Reset these below variables to 0 at the begining of every epoch\n",
    "    correct = 0\n",
    "    iterations = 0\n",
    "    iter_loss = 0.0\n",
    "    \n",
    "    model.train()  # Put the network into training mode\n",
    "    \n",
    "    for i, (inputs, labels) in enumerate(train_loader):\n",
    "       \n",
    "        if USE_CUDA:\n",
    "            inputs = inputs.cuda()\n",
    "            labels = labels.cuda()        \n",
    "            \n",
    "        outputs = model(inputs)\n",
    "        loss = criterion(outputs, labels)\n",
    "        iter_loss += loss.item()  # Accumulate the loss\n",
    "        optimizer.zero_grad() # Clear off the gradient in (w = w - gradient)\n",
    "        loss.backward()   # Backpropagation \n",
    "        optimizer.step()  # Update the weights\n",
    "        \n",
    "        # Record the correct predictions for training data \n",
    "        _, predicted = torch.max(outputs, 1)\n",
    "        correct += (predicted == labels).sum()\n",
    "        iterations += 1\n",
    "        \n",
    "    scheduler.step()\n",
    "        \n",
    "    # Record the training loss\n",
    "    train_loss.append(iter_loss/iterations)\n",
    "    # Record the training accuracy\n",
    "    train_accuracy.append((100 * correct / len(train_dataset)))   \n",
    "     \n",
    "    #-------------------------Test--------------------------\n",
    "    \n",
    "    correct = 0\n",
    "    iterations = 0\n",
    "    testing_loss = 0.0\n",
    "    \n",
    "    model.eval()  # Put the network into evaluation mode\n",
    "    \n",
    "    for i, (inputs, labels) in enumerate(test_loader):\n",
    "\n",
    "        if USE_CUDA:\n",
    "            inputs = inputs.cuda()\n",
    "            labels = labels.cuda()\n",
    "        \n",
    "        outputs = model(inputs)     \n",
    "        loss = criterion(outputs, labels) # Calculate the loss\n",
    "        testing_loss += loss.item()\n",
    "        # Record the correct predictions for training data\n",
    "        _, predicted = torch.max(outputs, 1)\n",
    "        correct += (predicted == labels).sum()\n",
    "        \n",
    "        iterations += 1\n",
    "\n",
    "    # Record the Testing loss\n",
    "    test_loss.append(testing_loss/iterations)\n",
    "    # Record the Testing accuracy\n",
    "    test_accuracy.append((100 * correct / len(test_dataset)))\n",
    "   \n",
    "    print(f'\\nEpoch {epoch} validation results: Loss={test_loss[-1]} | Accuracy={test_accuracy[-1]}\\n')\n",
    "\n",
    "    # Plot and save\n",
    "    plt.figure(figsize=(12, 8), num=1)\n",
    "    plt.clf()\n",
    "    plt.plot(epochs, train_loss, label='Train')\n",
    "    plt.plot(epochs, test_loss, label='Test')\n",
    "    plt.legend()\n",
    "    plt.grid()\n",
    "    plt.title('Cross entropy loss')\n",
    "    plt.xlabel('Epoch')\n",
    "    plt.ylabel('Loss')\n",
    "    plt.savefig('outputs/01-loss-cnn.pdf')\n",
    "\n",
    "    plt.figure(figsize=(12, 8), num=2)\n",
    "    plt.clf()\n",
    "    plt.plot(epochs, train_accuracy, label='Train')\n",
    "    plt.plot(epochs, test_accuracy, label='Test')\n",
    "    plt.legend()\n",
    "    plt.grid()\n",
    "    plt.title('Accuracy')\n",
    "    plt.xlabel('Epoch')\n",
    "    plt.ylabel('Accuracy')\n",
    "    plt.savefig('outputs/02-accuracy-cnn.pdf')"
   ]
  },
  {
   "cell_type": "markdown",
   "id": "252edc3a",
   "metadata": {},
   "source": [
    "# Results"
   ]
  },
  {
   "cell_type": "code",
   "execution_count": 154,
   "id": "edc6a876",
   "metadata": {},
   "outputs": [
    {
     "name": "stdout",
     "output_type": "stream",
     "text": [
      "Final train loss: 0.49078181050938263\n",
      "Final test loss: 0.5623244762858923\n",
      "Final train accuracy: 83.15740966796875\n",
      "Final test accuracy: 80.55555725097656\n"
     ]
    }
   ],
   "source": [
    "print(f'Final train loss: {train_loss[-1]}')\n",
    "print(f'Final test loss: {test_loss[-1]}')\n",
    "print(f'Final train accuracy: {train_accuracy[-1]}')\n",
    "print(f'Final test accuracy: {test_accuracy[-1]}')"
   ]
  }
 ],
 "metadata": {
  "kernelspec": {
   "display_name": "Python 3 (ipykernel)",
   "language": "python",
   "name": "python3"
  },
  "language_info": {
   "codemirror_mode": {
    "name": "ipython",
    "version": 3
   },
   "file_extension": ".py",
   "mimetype": "text/x-python",
   "name": "python",
   "nbconvert_exporter": "python",
   "pygments_lexer": "ipython3",
   "version": "3.9.7"
  }
 },
 "nbformat": 4,
 "nbformat_minor": 5
}
