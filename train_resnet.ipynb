{
 "cells": [
  {
   "cell_type": "code",
   "execution_count": null,
   "id": "8eee28f4",
   "metadata": {},
   "outputs": [],
   "source": [
    "import numpy as np\n",
    "from skimage import io\n",
    "import matplotlib\n",
    "import matplotlib.pyplot as plt\n",
    "import os\n",
    "from glob import glob\n",
    "import torch\n",
    "import torch.nn as nn\n",
    "from tqdm import tqdm\n",
    "from PIL import Image\n",
    "from network import Net\n",
    "from torch.utils.data import DataLoader, Dataset\n",
    "from torch.autograd import Variable\n",
    "if not os.path.exists('./outputs'):\n",
    "    os.mkdir('./outputs')"
   ]
  },
  {
   "cell_type": "code",
   "execution_count": 2,
   "id": "745dbbdf",
   "metadata": {},
   "outputs": [],
   "source": [
    "# Global parameters\n",
    "\n",
    "# If USE_CUDA is True, computations will be done using the GPU (may not work in all systems)\n",
    "# This will make the calculations happen faster\n",
    "USE_CUDA = torch.cuda.is_available()\n",
    "\n",
    "DATASET_PATH = './EuroSAT_data'\n",
    "\n",
    "BATCH_SIZE = 64 # Number of images that are used for calculating gradients at each step\n",
    "\n",
    "NUM_EPOCHS = 25 # Number of times we will go through all the training images. Do not go over 25\n",
    "\n",
    "LEARNING_RATE = 0.001 # Controls the step size\n",
    "MOMENTUM = 0.9 # Momentum for the gradient descent\n",
    "WEIGHT_DECAY = 0.0005"
   ]
  },
  {
   "cell_type": "code",
   "execution_count": 9,
   "id": "cc65618c",
   "metadata": {},
   "outputs": [
    {
     "name": "stdout",
     "output_type": "stream",
     "text": [
      "Dataloaders OK\n"
     ]
    },
    {
     "data": {
      "text/plain": [
       "<torch.utils.data.dataloader.DataLoader at 0x154a4020f40>"
      ]
     },
     "execution_count": 9,
     "metadata": {},
     "output_type": "execute_result"
    }
   ],
   "source": [
    "# Create datasets and data loaders\n",
    "# Transformations\n",
    "\n",
    "from torchvision import datasets, models, transforms\n",
    "data_transforms = transforms.Compose([\n",
    "        transforms.Resize(64),\n",
    "        transforms.ToTensor(),\n",
    "        transforms.Normalize([0.485, 0.456, 0.406], [0.229, 0.224, 0.225])\n",
    "    ])\n",
    "\n",
    "train_dataset = datasets.ImageFolder(os.path.join(DATASET_PATH, 'train'), data_transforms)\n",
    "train_loader = DataLoader(train_dataset, BATCH_SIZE, shuffle=True, num_workers=2, pin_memory=True)\n",
    "\n",
    "\n",
    "test_dataset = datasets.ImageFolder(os.path.join(DATASET_PATH, 'test'), data_transforms)\n",
    "test_loader = DataLoader(test_dataset, BATCH_SIZE, shuffle=False, num_workers=2, pin_memory=True)\n",
    "\n",
    "class_names = train_dataset.classes\n",
    "\n",
    "print('Dataloaders OK')\n",
    "test_loader"
   ]
  },
  {
   "cell_type": "code",
   "execution_count": 4,
   "id": "1b611aaf",
   "metadata": {},
   "outputs": [
    {
     "name": "stdout",
     "output_type": "stream",
     "text": [
      "Image label: 6\n"
     ]
    },
    {
     "data": {
      "text/plain": [
       "<matplotlib.image.AxesImage at 0x154a3f92520>"
      ]
     },
     "execution_count": 4,
     "metadata": {},
     "output_type": "execute_result"
    },
    {
     "data": {
      "image/png": "[encoded data removed]",
      "text/plain": [
       "<Figure size 432x288 with 1 Axes>"
      ]
     },
     "metadata": {
      "needs_background": "light"
     },
     "output_type": "display_data"
    }
   ],
   "source": [
    "#Print the corresponding label for the image\n",
    "\n",
    "random_image = train_dataset[13421][0].numpy().transpose((1, 2, 0))   \n",
    "mean = np.array([0.485, 0.456, 0.406])\n",
    "std = np.array([0.229, 0.224, 0.225])\n",
    "random_image = std * random_image + mean\n",
    "random_image = np.clip(random_image, 0, 1)\n",
    "print(\"Image label:\", train_dataset[13421][1])\n",
    "plt.imshow(random_image)"
   ]
  },
  {
   "cell_type": "markdown",
   "id": "bcbc1eb2",
   "metadata": {},
   "source": [
    "# Residual Network Architecture"
   ]
  },
  {
   "cell_type": "code",
   "execution_count": 6,
   "id": "b4c9020c",
   "metadata": {},
   "outputs": [],
   "source": [
    "#Create the model class with ResNet\n",
    "def conv3x3(in_channels, out_channels, stride=1):\n",
    "    return nn.Conv2d(in_channels, out_channels, kernel_size=3, stride=stride, padding=1, bias=False)\n",
    "\n",
    "class ResidualBlock(nn.Module):\n",
    "    def __init__(self, in_channels, out_channels, stride=1, downsample=None):\n",
    "        super(ResidualBlock, self).__init__()\n",
    "        self.conv1 = conv3x3(in_channels, out_channels, stride)\n",
    "        self.bn1 = nn.BatchNorm2d(out_channels)\n",
    "        self.relu = nn.ReLU(inplace=True)\n",
    "        self.conv2 = conv3x3(out_channels, out_channels)\n",
    "        self.bn2 = nn.BatchNorm2d(out_channels)\n",
    "        self.downsample = downsample\n",
    "        \n",
    "    def forward(self, x):\n",
    "        residual = x\n",
    "        out = self.conv1(x)\n",
    "        out = self.bn1(out)\n",
    "        out = self.relu(out)\n",
    "        out = self.conv2(out)\n",
    "        out = self.bn2(out)\n",
    "        if self.downsample:\n",
    "            residual = self.downsample(x)\n",
    "        out += residual\n",
    "        out = self.relu(out)\n",
    "        return out"
   ]
  },
  {
   "cell_type": "code",
   "execution_count": 7,
   "id": "dd340b1a",
   "metadata": {},
   "outputs": [],
   "source": [
    "class ResNet(nn.Module):\n",
    "    def __init__(self, block, layers, num_classes=10):\n",
    "        super(ResNet, self).__init__()\n",
    "        self.in_channels = 16 \n",
    "        self.conv = conv3x3(3, 16)\n",
    "        self.bn = nn.BatchNorm2d(16) \n",
    "        self.relu = nn.ReLU(inplace=True)\n",
    "        self.layer1 = self.make_layer(block, 16, layers[0], 1)\n",
    "        self.layer2 = self.make_layer(block, 32, layers[1], 2)\n",
    "        self.layer3 = self.make_layer(block, 64, layers[2], 2)\n",
    "        self.avg_pool = nn.AvgPool2d(16)\n",
    "        self.fc = nn.Linear(64, num_classes)\n",
    "        \n",
    "    def make_layer(self, block, out_channels, blocks, stride=1):\n",
    "        downsample = None\n",
    "        if (stride != 1) or (self.in_channels != out_channels):\n",
    "            downsample = nn.Sequential(conv3x3(self.in_channels, out_channels, stride=stride),\n",
    "                                       nn.BatchNorm2d(out_channels))\n",
    "        layers = []\n",
    "        layers.append(block(self.in_channels, out_channels, stride, downsample))\n",
    "        self.in_channels = out_channels\n",
    "        for i in range(1, blocks):\n",
    "            layers.append(block(out_channels, out_channels))\n",
    "        return nn.Sequential(*layers)\n",
    "    \n",
    "    def forward(self, x):\n",
    "        out = self.conv(x)\n",
    "        out = self.bn(out)\n",
    "        out = self.relu(out)\n",
    "        out = self.layer1(out)\n",
    "        out = self.layer2(out)\n",
    "        out = self.layer3(out)\n",
    "        out = self.avg_pool(out)\n",
    "        out = out.view(x.size(0), -1)\n",
    "        out = self.fc(out)\n",
    "        return out"
   ]
  },
  {
   "cell_type": "markdown",
   "id": "dd9e37ce",
   "metadata": {},
   "source": [
    "# Create models"
   ]
  },
  {
   "cell_type": "code",
   "execution_count": null,
   "id": "f77f06a4",
   "metadata": {},
   "outputs": [],
   "source": [
    "# Create network\n",
    "model = ResNet(ResidualBlock, [2, 2, 2])\n",
    "if USE_CUDA:\n",
    "    model = model.cuda()  "
   ]
  },
  {
   "cell_type": "code",
   "execution_count": 10,
   "id": "711b61a5",
   "metadata": {},
   "outputs": [],
   "source": [
    "# Define criterion, optimizer, and scheduler\n",
    "\n",
    "criterion = nn.CrossEntropyLoss()  \n",
    "optimizer = torch.optim.SGD(model.parameters(), lr=LEARNING_RATE, momentum=MOMENTUM, weight_decay=WEIGHT_DECAY)\n",
    "scheduler = torch.optim.lr_scheduler.StepLR(optimizer, step_size=7, gamma=0.1)"
   ]
  },
  {
   "cell_type": "markdown",
   "id": "1f4c9f1f",
   "metadata": {},
   "source": [
    "# Training with ResNet"
   ]
  },
  {
   "cell_type": "code",
   "execution_count": 157,
   "id": "df2bc401",
   "metadata": {},
   "outputs": [
    {
     "name": "stdout",
     "output_type": "stream",
     "text": [
      "\n",
      "\n",
      "Running epoch 1 of 25...\n",
      "\n",
      "\n",
      "Epoch 1 validation results: Loss=0.8446428609244964 | Accuracy=69.72222137451172\n",
      "\n",
      "\n",
      "\n",
      "Running epoch 2 of 25...\n",
      "\n",
      "\n",
      "Epoch 2 validation results: Loss=0.5829719642067657 | Accuracy=79.96295928955078\n",
      "\n",
      "\n",
      "\n",
      "Running epoch 3 of 25...\n",
      "\n",
      "\n",
      "Epoch 3 validation results: Loss=0.48173841733266326 | Accuracy=84.05555725097656\n",
      "\n",
      "\n",
      "\n",
      "Running epoch 4 of 25...\n",
      "\n",
      "\n",
      "Epoch 4 validation results: Loss=0.41246457104297246 | Accuracy=86.48148345947266\n",
      "\n",
      "\n",
      "\n",
      "Running epoch 5 of 25...\n",
      "\n",
      "\n",
      "Epoch 5 validation results: Loss=0.588005422231029 | Accuracy=79.61111450195312\n",
      "\n",
      "\n",
      "\n",
      "Running epoch 6 of 25...\n",
      "\n",
      "\n",
      "Epoch 6 validation results: Loss=0.4199164312990273 | Accuracy=86.0740737915039\n",
      "\n",
      "\n",
      "\n",
      "Running epoch 7 of 25...\n",
      "\n",
      "\n",
      "Epoch 7 validation results: Loss=0.35857671645524747 | Accuracy=88.01851654052734\n",
      "\n",
      "\n",
      "\n",
      "Running epoch 8 of 25...\n",
      "\n",
      "\n",
      "Epoch 8 validation results: Loss=0.24340899664470378 | Accuracy=92.25926208496094\n",
      "\n",
      "\n",
      "\n",
      "Running epoch 9 of 25...\n",
      "\n",
      "\n",
      "Epoch 9 validation results: Loss=0.23386396232115872 | Accuracy=92.64814758300781\n",
      "\n",
      "\n",
      "\n",
      "Running epoch 10 of 25...\n",
      "\n",
      "\n",
      "Epoch 10 validation results: Loss=0.22563818443347425 | Accuracy=92.85185241699219\n",
      "\n",
      "\n",
      "\n",
      "Running epoch 11 of 25...\n",
      "\n",
      "\n",
      "Epoch 11 validation results: Loss=0.22737063640619026 | Accuracy=92.70370483398438\n",
      "\n",
      "\n",
      "\n",
      "Running epoch 12 of 25...\n",
      "\n",
      "\n",
      "Epoch 12 validation results: Loss=0.21958333583658232 | Accuracy=93.0\n",
      "\n",
      "\n",
      "\n",
      "Running epoch 13 of 25...\n",
      "\n",
      "\n",
      "Epoch 13 validation results: Loss=0.21333659149377662 | Accuracy=93.24073791503906\n",
      "\n",
      "\n",
      "\n",
      "Running epoch 14 of 25...\n",
      "\n",
      "\n",
      "Epoch 14 validation results: Loss=0.2264574846088448 | Accuracy=92.48148345947266\n",
      "\n",
      "\n",
      "\n",
      "Running epoch 15 of 25...\n",
      "\n",
      "\n",
      "Epoch 15 validation results: Loss=0.20778077644679477 | Accuracy=93.29629516601562\n",
      "\n",
      "\n",
      "\n",
      "Running epoch 16 of 25...\n",
      "\n",
      "\n",
      "Epoch 16 validation results: Loss=0.20989152906352984 | Accuracy=93.05555725097656\n",
      "\n",
      "\n",
      "\n",
      "Running epoch 17 of 25...\n",
      "\n",
      "\n",
      "Epoch 17 validation results: Loss=0.20730044051237842 | Accuracy=93.40740966796875\n",
      "\n",
      "\n",
      "\n",
      "Running epoch 18 of 25...\n",
      "\n",
      "\n",
      "Epoch 18 validation results: Loss=0.20646367304246216 | Accuracy=93.25926208496094\n",
      "\n",
      "\n",
      "\n",
      "Running epoch 19 of 25...\n",
      "\n",
      "\n",
      "Epoch 19 validation results: Loss=0.20829590385889304 | Accuracy=93.44444274902344\n",
      "\n",
      "\n",
      "\n",
      "Running epoch 20 of 25...\n",
      "\n",
      "\n",
      "Epoch 20 validation results: Loss=0.20508580040186644 | Accuracy=93.38888549804688\n",
      "\n",
      "\n",
      "\n",
      "Running epoch 21 of 25...\n",
      "\n",
      "\n",
      "Epoch 21 validation results: Loss=0.20657724000732688 | Accuracy=93.35185241699219\n",
      "\n",
      "\n",
      "\n",
      "Running epoch 22 of 25...\n",
      "\n",
      "\n",
      "Epoch 22 validation results: Loss=0.20511760120006167 | Accuracy=93.38888549804688\n",
      "\n",
      "\n",
      "\n",
      "Running epoch 23 of 25...\n",
      "\n",
      "\n",
      "Epoch 23 validation results: Loss=0.20720102396958015 | Accuracy=93.12963104248047\n",
      "\n",
      "\n",
      "\n",
      "Running epoch 24 of 25...\n",
      "\n",
      "\n",
      "Epoch 24 validation results: Loss=0.2098631633062135 | Accuracy=93.18518829345703\n",
      "\n",
      "\n",
      "\n",
      "Running epoch 25 of 25...\n",
      "\n",
      "\n",
      "Epoch 25 validation results: Loss=0.21340482519829976 | Accuracy=93.05555725097656\n",
      "\n"
     ]
    },
    {
     "data": {
      "image/png": "[encoded data removed]",
      "text/plain": [
       "<Figure size 864x576 with 1 Axes>"
      ]
     },
     "metadata": {
      "needs_background": "light"
     },
     "output_type": "display_data"
    },
    {
     "data": {
      "image/png": "[encoded data removed]",
      "text/plain": [
       "<Figure size 864x576 with 1 Axes>"
      ]
     },
     "metadata": {
      "needs_background": "light"
     },
     "output_type": "display_data"
    }
   ],
   "source": [
    "# Main loop\n",
    "train_loss = []\n",
    "train_accuracy = []\n",
    "test_loss = []\n",
    "test_accuracy = []\n",
    "epochs = []\n",
    "\n",
    "for epoch in range(1, NUM_EPOCHS+1):\n",
    "    print(f'\\n\\nRunning epoch {epoch} of {NUM_EPOCHS}...\\n')\n",
    "    epochs.append(epoch)\n",
    "\n",
    "    #-------------------------Train-------------------------\n",
    "    \n",
    "    #Reset these below variables to 0 at the begining of every epoch\n",
    "    correct = 0\n",
    "    iterations = 0\n",
    "    iter_loss = 0.0\n",
    "    \n",
    "    model.train()  # Put the network into training mode\n",
    "    \n",
    "    for i, (inputs, labels) in enumerate(train_loader):\n",
    "        if USE_CUDA:\n",
    "            inputs = inputs.cuda()\n",
    "            labels = labels.cuda()        \n",
    "            \n",
    "        outputs = model(inputs)\n",
    "        loss = criterion(outputs, labels)\n",
    "        iter_loss += loss.item()  # Accumulate the loss\n",
    "        optimizer.zero_grad() # Clear off the gradient in (w = w - gradient)\n",
    "        loss.backward()   # Backpropagation \n",
    "        optimizer.step()  # Update the weights\n",
    "        \n",
    "        # Record the correct predictions for training data \n",
    "        _, predicted = torch.max(outputs, 1)\n",
    "        correct += (predicted == labels).sum()\n",
    "        iterations += 1\n",
    "        \n",
    "    scheduler.step()\n",
    "        \n",
    "    # Record the training loss\n",
    "    train_loss.append(iter_loss/iterations)\n",
    "    # Record the training accuracy\n",
    "    train_accuracy.append((100 * correct / len(train_dataset)))   \n",
    "     \n",
    "    #-------------------------Test--------------------------\n",
    "    \n",
    "    correct = 0\n",
    "    iterations = 0\n",
    "    testing_loss = 0.0\n",
    "    \n",
    "    model.eval()  # Put the network into evaluation mode\n",
    "    \n",
    "    for i, (inputs, labels) in enumerate(test_loader):\n",
    "\n",
    "        if USE_CUDA:\n",
    "            inputs = inputs.cuda()\n",
    "            labels = labels.cuda()\n",
    "        \n",
    "        outputs = model(inputs)     \n",
    "        loss = criterion(outputs, labels) # Calculate the loss\n",
    "        testing_loss += loss.item()\n",
    "        # Record the correct predictions for training data\n",
    "        _, predicted = torch.max(outputs, 1)\n",
    "        correct += (predicted == labels).sum()\n",
    "        \n",
    "        iterations += 1\n",
    "\n",
    "    # Record the Testing loss\n",
    "    test_loss.append(testing_loss/iterations)\n",
    "    # Record the Testing accuracy\n",
    "    test_accuracy.append((100 * correct / len(test_dataset)))\n",
    "   \n",
    "    print(f'\\nEpoch {epoch} validation results: Loss={test_loss[-1]} | Accuracy={test_accuracy[-1]}\\n')\n",
    "\n",
    "\n",
    "    # Plot and save\n",
    "    plt.figure(figsize=(12, 8), num=1)\n",
    "    plt.clf()\n",
    "    plt.plot(epochs, train_loss, label='Train')\n",
    "    plt.plot(epochs, test_loss, label='Test')\n",
    "    plt.legend()\n",
    "    plt.grid()\n",
    "    plt.title('Cross entropy loss')\n",
    "    plt.xlabel('Epoch')\n",
    "    plt.ylabel('Loss')\n",
    "    plt.savefig('outputs/01-loss-resnet.pdf')\n",
    "\n",
    "    plt.figure(figsize=(12, 8), num=2)\n",
    "    plt.clf()\n",
    "    plt.plot(epochs, train_accuracy, label='Train')\n",
    "    plt.plot(epochs, test_accuracy, label='Test')\n",
    "    plt.legend()\n",
    "    plt.grid()\n",
    "    plt.title('Accuracy')\n",
    "    plt.xlabel('Epoch')\n",
    "    plt.ylabel('Accuracy')\n",
    "    plt.savefig('outputs/02-accuracy-resnet.pdf')"
   ]
  },
  {
   "cell_type": "markdown",
   "id": "7deefb22",
   "metadata": {},
   "source": [
    "# Results"
   ]
  },
  {
   "cell_type": "code",
   "execution_count": 158,
   "id": "120f56be",
   "metadata": {},
   "outputs": [
    {
     "name": "stdout",
     "output_type": "stream",
     "text": [
      "Final train loss: 0.21561731184287183\n",
      "Final test loss: 0.21340482519829976\n",
      "Final train accuracy: 93.14814758300781\n",
      "Final test accuracy: 93.05555725097656\n"
     ]
    }
   ],
   "source": [
    "print(f'Final train loss: {train_loss[-1]}')\n",
    "print(f'Final test loss: {test_loss[-1]}')\n",
    "print(f'Final train accuracy: {train_accuracy[-1]}')\n",
    "print(f'Final test accuracy: {test_accuracy[-1]}')"
   ]
  }
 ],
 "metadata": {
  "kernelspec": {
   "display_name": "Python 3 (ipykernel)",
   "language": "python",
   "name": "python3"
  },
  "language_info": {
   "codemirror_mode": {
    "name": "ipython",
    "version": 3
   },
   "file_extension": ".py",
   "mimetype": "text/x-python",
   "name": "python",
   "nbconvert_exporter": "python",
   "pygments_lexer": "ipython3",
   "version": "3.9.7"
  }
 },
 "nbformat": 4,
 "nbformat_minor": 5
}
